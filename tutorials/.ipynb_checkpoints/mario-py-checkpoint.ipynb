{
 "cells": [
  {
   "cell_type": "code",
   "execution_count": 1,
   "id": "secret-metadata",
   "metadata": {},
   "outputs": [],
   "source": [
    "import numpy as np\n",
    "import pandas as pd\n",
    "from mario.match import Mario\n",
    "from mario.match_utils import eval_matching_accuracy"
   ]
  },
  {
   "cell_type": "markdown",
   "id": "controversial-water",
   "metadata": {},
   "source": [
    "# Exploratory analysis with subsampled data"
   ]
  },
  {
   "cell_type": "markdown",
   "id": "equipped-insured",
   "metadata": {},
   "source": [
    "*INSERT MORE DETAILS.* We use subsampled data to select hyperparameters, test for matchability, etc."
   ]
  },
  {
   "cell_type": "code",
   "execution_count": 2,
   "id": "silent-cassette",
   "metadata": {},
   "outputs": [],
   "source": [
    "# pre-processing\n",
    "df1 = pd.read_csv(\"/Users/shuxiaochen/Dropbox/Research/ongoing/single-cell-integration/data-biology/drop_out_test/vaxaart-wb50k-cytof.csv\")\n",
    "df2 = pd.read_csv(\"/Users/shuxiaochen/Dropbox/Research/ongoing/single-cell-integration/data-biology/drop_out_test/wcctg-wb50k-cytof.csv\")\n",
    "n1, p1 = df1.shape\n",
    "n2, p2 = df2.shape\n",
    "np.random.seed(267)\n",
    "df1 = df1.iloc[np.random.choice(n1, 500, replace=False), :]\n",
    "df2 = df2.iloc[np.random.choice(n2, 2000, replace=False), :]\n",
    "X_labels = df1['cluster.info'].to_numpy()\n",
    "Y_labels = df2['cluster.info'].to_numpy()\n",
    "\n",
    "df1 = df1.drop(['Unnamed: 0', 'cluster.info'], 1)\n",
    "df2 = df2.drop(['Unnamed: 0', 'cluster.info'], 1)"
   ]
  },
  {
   "cell_type": "markdown",
   "id": "accepting-trash",
   "metadata": {},
   "source": [
    "## Matching with overlapping features"
   ]
  },
  {
   "cell_type": "code",
   "execution_count": 3,
   "id": "unable-metallic",
   "metadata": {},
   "outputs": [],
   "source": [
    "mario = Mario(df1, df2, normalization=True)"
   ]
  },
  {
   "cell_type": "code",
   "execution_count": 4,
   "id": "minus-rachel",
   "metadata": {},
   "outputs": [],
   "source": [
    "_, s = mario.compute_dist_ovlp(n_components=20)"
   ]
  },
  {
   "cell_type": "code",
   "execution_count": 5,
   "id": "loose-citation",
   "metadata": {},
   "outputs": [],
   "source": [
    "mario.specify_matching_params(1)"
   ]
  },
  {
   "cell_type": "code",
   "execution_count": 6,
   "id": "respective-button",
   "metadata": {},
   "outputs": [
    {
     "name": "stdout",
     "output_type": "stream",
     "text": [
      "If sparsity>=2000, then there is a valid matching; if sparsity<1, then there is no valid matching.\n",
      "If sparsity>=2000, then there is a valid matching; if sparsity<4, then there is no valid matching.\n",
      "If sparsity>=1002, then there is a valid matching; if sparsity<4, then there is no valid matching.\n",
      "If sparsity>=503, then there is a valid matching; if sparsity<4, then there is no valid matching.\n",
      "If sparsity>=253, then there is a valid matching; if sparsity<4, then there is no valid matching.\n",
      "If sparsity>=128, then there is a valid matching; if sparsity<4, then there is no valid matching.\n",
      "If sparsity>=66, then there is a valid matching; if sparsity<4, then there is no valid matching.\n",
      "If sparsity>=35, then there is a valid matching; if sparsity<4, then there is no valid matching.\n",
      "If sparsity>=19, then there is a valid matching; if sparsity<4, then there is no valid matching.\n",
      "If sparsity>=11, then there is a valid matching; if sparsity<4, then there is no valid matching.\n",
      "If sparsity>=7, then there is a valid matching; if sparsity<4, then there is no valid matching.\n",
      "If sparsity>=7, then there is a valid matching; if sparsity<6, then there is no valid matching.\n"
     ]
    },
    {
     "data": {
      "text/plain": [
       "(6, 7)"
      ]
     },
     "execution_count": 6,
     "metadata": {},
     "output_type": "execute_result"
    }
   ],
   "source": [
    "mario.search_minimum_sparsity(mario.dist['ovlp'], slackness=1, init_sparsity=3, verbose=True)"
   ]
  },
  {
   "cell_type": "code",
   "execution_count": 7,
   "id": "systematic-warehouse",
   "metadata": {},
   "outputs": [],
   "source": [
    "_ = mario.match_cells('ovlp', sparsity=None, mode='auto')"
   ]
  },
  {
   "cell_type": "code",
   "execution_count": 8,
   "id": "immune-bible",
   "metadata": {},
   "outputs": [
    {
     "data": {
      "text/plain": [
       "0.84"
      ]
     },
     "execution_count": 8,
     "metadata": {},
     "output_type": "execute_result"
    }
   ],
   "source": [
    "eval_matching_accuracy(X_labels, Y_labels, mario.matching['ovlp'], 'maj')"
   ]
  },
  {
   "cell_type": "markdown",
   "id": "numerical-devon",
   "metadata": {},
   "source": [
    "## Matching with all the features"
   ]
  },
  {
   "cell_type": "code",
   "execution_count": 9,
   "id": "convinced-valentine",
   "metadata": {},
   "outputs": [],
   "source": [
    "_, cancor = mario.compute_dist_all('ovlp', n_components=15)"
   ]
  },
  {
   "cell_type": "code",
   "execution_count": 10,
   "id": "earlier-stupid",
   "metadata": {},
   "outputs": [
    {
     "name": "stdout",
     "output_type": "stream",
     "text": [
      "Time:  0.022302555000000446\n"
     ]
    }
   ],
   "source": [
    "start = timeit.default_timer()\n",
    "match_all = mario.match_cells('all', sparsity=None, mode='auto')\n",
    "stop = timeit.default_timer()\n",
    "print('Time: ', stop - start)"
   ]
  },
  {
   "cell_type": "code",
   "execution_count": 11,
   "id": "exciting-chambers",
   "metadata": {},
   "outputs": [
    {
     "data": {
      "text/plain": [
       "0.858"
      ]
     },
     "execution_count": 11,
     "metadata": {},
     "output_type": "execute_result"
    }
   ],
   "source": [
    "eval_matching_accuracy(X_labels, Y_labels, mario.matching['all'], 'maj')"
   ]
  },
  {
   "cell_type": "markdown",
   "id": "underlying-inquiry",
   "metadata": {},
   "source": [
    "## Matchability test"
   ]
  },
  {
   "cell_type": "code",
   "execution_count": 12,
   "id": "changed-rendering",
   "metadata": {},
   "outputs": [
    {
     "name": "stdout",
     "output_type": "stream",
     "text": [
      "Random sign flip, round 0...\n",
      "Random sign flip, round 1...\n",
      "Random sign flip, round 2...\n",
      "Random sign flip, round 3...\n",
      "Random sign flip, round 4...\n",
      "Random sign flip, round 5...\n",
      "Random sign flip, round 6...\n",
      "Random sign flip, round 7...\n",
      "Random sign flip, round 8...\n",
      "Random sign flip, round 9...\n",
      "Random sign flip, round 10...\n",
      "Random sign flip, round 11...\n",
      "Random sign flip, round 12...\n",
      "Random sign flip, round 13...\n",
      "Random sign flip, round 14...\n",
      "Random sign flip, round 15...\n",
      "Random sign flip, round 16...\n",
      "Random sign flip, round 17...\n",
      "Random sign flip, round 18...\n",
      "Random sign flip, round 19...\n"
     ]
    },
    {
     "data": {
      "text/plain": [
       "(0.0, 0.0)"
      ]
     },
     "execution_count": 12,
     "metadata": {},
     "output_type": "execute_result"
    }
   ],
   "source": [
    "mario.matchable(n_sim=20, top_k=5, flip_prob=0.3, subsample_prop=1, verbose=True)"
   ]
  },
  {
   "cell_type": "markdown",
   "id": "specified-probability",
   "metadata": {},
   "source": [
    "## Find the best interpolation"
   ]
  },
  {
   "cell_type": "code",
   "execution_count": 13,
   "id": "deadly-parks",
   "metadata": {},
   "outputs": [
    {
     "name": "stdout",
     "output_type": "stream",
     "text": [
      "Now at iteration 0, wt=0.0\n",
      "Now at iteration 1, wt=0.1111111111111111\n",
      "Now at iteration 2, wt=0.2222222222222222\n",
      "Now at iteration 3, wt=0.3333333333333333\n",
      "Now at iteration 4, wt=0.4444444444444444\n",
      "Now at iteration 5, wt=0.5555555555555556\n",
      "Now at iteration 6, wt=0.6666666666666666\n",
      "Now at iteration 7, wt=0.7777777777777777\n",
      "Now at iteration 8, wt=0.8888888888888888\n",
      "Now at iteration 9, wt=1.0\n"
     ]
    }
   ],
   "source": [
    "best_wt, _ = mario.interpolate(n_wts=10, top_k=5, verbose=True)"
   ]
  },
  {
   "cell_type": "code",
   "execution_count": 14,
   "id": "devoted-microphone",
   "metadata": {},
   "outputs": [
    {
     "data": {
      "text/plain": [
       "0.858"
      ]
     },
     "execution_count": 14,
     "metadata": {},
     "output_type": "execute_result"
    }
   ],
   "source": [
    "eval_matching_accuracy(X_labels, Y_labels, mario.matching['wted'], 'maj')"
   ]
  },
  {
   "cell_type": "code",
   "execution_count": 23,
   "id": "ruled-garbage",
   "metadata": {},
   "outputs": [
    {
     "name": "stdout",
     "output_type": "stream",
     "text": [
      "Now at iteration 0, current loss is 11.768425411055398.\n",
      "Now at iteration 1, current loss is 11.388897424606615.\n",
      "Now at iteration 2, current loss is 11.234166381422444.\n",
      "Now at iteration 3, current loss is 11.142470454249038.\n",
      "Now at iteration 4, current loss is 11.107719734019073.\n",
      "Now at iteration 5, current loss is 11.103601841072942.\n",
      "Now at iteration 6, current loss is 11.103601841072942.\n"
     ]
    }
   ],
   "source": [
    "_  = mario.filter_bad_matches('wted', n_clusters=20, n_components=15, bad_prop=0.2,\n",
    "                         max_iter=15, tol=1e-5, verbose=True)"
   ]
  },
  {
   "cell_type": "code",
   "execution_count": 24,
   "id": "cognitive-polymer",
   "metadata": {},
   "outputs": [
    {
     "name": "stdout",
     "output_type": "stream",
     "text": [
      "Matching accuracy is 0.871578947368421\n",
      "95.0% cells remain.\n"
     ]
    }
   ],
   "source": [
    "print('Matching accuracy is {}'.format(eval_matching_accuracy(X_labels, Y_labels, mario.matching['final'], 'maj')))\n",
    "num_cells_remained = np.sum([1 for ii in range(mario.n1) if len(mario.matching['final'][ii]) != 0])\n",
    "print(\"{}% cells remain.\".format(num_cells_remained/mario.n1*100))"
   ]
  },
  {
   "cell_type": "markdown",
   "id": "published-shock",
   "metadata": {},
   "source": [
    "## k-NN matching"
   ]
  },
  {
   "cell_type": "code",
   "execution_count": 21,
   "id": "applied-rover",
   "metadata": {},
   "outputs": [],
   "source": [
    "_ = mario.knn_matching('wted', k=5)"
   ]
  },
  {
   "cell_type": "code",
   "execution_count": 22,
   "id": "novel-drama",
   "metadata": {},
   "outputs": [
    {
     "data": {
      "text/plain": [
       "0.87"
      ]
     },
     "execution_count": 22,
     "metadata": {},
     "output_type": "execute_result"
    }
   ],
   "source": [
    "eval_matching_accuracy(X_labels, Y_labels, mario.matching['knn'], 'maj')"
   ]
  },
  {
   "cell_type": "markdown",
   "id": "collective-potter",
   "metadata": {},
   "source": [
    "## Obtain joint embeddings"
   ]
  },
  {
   "cell_type": "code",
   "execution_count": 23,
   "id": "periodic-mouse",
   "metadata": {},
   "outputs": [],
   "source": [
    "cancor, cca = mario.fit_cca(mario.matching['final'], n_components=20, max_iter=10000)\n",
    "df1_cca, df2_cca = cca.transform(mario.df1, mario.df2)"
   ]
  },
  {
   "cell_type": "markdown",
   "id": "african-theory",
   "metadata": {},
   "source": [
    "# Overall pipeline using the full data"
   ]
  },
  {
   "cell_type": "code",
   "execution_count": 26,
   "id": "overall-blues",
   "metadata": {},
   "outputs": [],
   "source": [
    "import numpy as np\n",
    "import pandas as pd\n",
    "from mario.match import pipelined_mario\n",
    "from mario.match_utils import eval_matching_accuracy"
   ]
  },
  {
   "cell_type": "code",
   "execution_count": 27,
   "id": "legitimate-earthquake",
   "metadata": {},
   "outputs": [],
   "source": [
    "df1 = pd.read_csv(\"/Users/shuxiaochen/Dropbox/Research/ongoing/single-cell-integration/data-biology/drop_out_test/vaxaart-wb50k-cytof.csv\")\n",
    "df2 = pd.read_csv(\"/Users/shuxiaochen/Dropbox/Research/ongoing/single-cell-integration/data-biology/drop_out_test/wcctg-wb50k-cytof.csv\")\n",
    "df3 = pd.read_csv(\"/Users/shuxiaochen/Dropbox/Research/ongoing/single-cell-integration/data-biology/drop_out_test/wcctg-wb50k-cytof.csv\")\n",
    "n1, p1 = df1.shape\n",
    "n2, p2 = df2.shape\n",
    "np.random.seed(267)\n",
    "df1 = df1.iloc[np.random.choice(n1, 400, replace=False), :]\n",
    "df2 = df2.iloc[np.random.choice(n2, 1000, replace=False), :]\n",
    "df3 = df3.iloc[np.random.choice(n2, 2000, replace=False), :]\n",
    "X_labels = df1['cluster.info'].to_numpy()\n",
    "Y_labels = df2['cluster.info'].to_numpy()\n",
    "Z_labels = df3['cluster.info'].to_numpy()\n",
    "\n",
    "df1 = df1.drop(['Unnamed: 0', 'cluster.info'], 1)\n",
    "df2 = df2.drop(['Unnamed: 0', 'cluster.info'], 1)\n",
    "df3 = df3.drop(['Unnamed: 0', 'cluster.info'], 1)"
   ]
  },
  {
   "cell_type": "code",
   "execution_count": 28,
   "id": "stone-provider",
   "metadata": {},
   "outputs": [
    {
     "name": "stdout",
     "output_type": "stream",
     "text": [
      "Matching data_lst[0] with data_lst[1]\n",
      "Matching using overlapping features...\n",
      "Matching using all features...\n",
      "Finding the best interpolated matching...\n",
      "Filtering bad matched pairs...\n",
      "Do knn matching...\n",
      "Calculating joint embeddings...\n",
      "Saving the results...\n",
      "Done!\n"
     ]
    }
   ],
   "source": [
    "final_matching_lst, knn_matching_lst, embedding_lst = pipelined_mario(\n",
    "    data_lst=[df1, df2], normalization=True, n_batches=4,\n",
    "    n_matched_per_cell=3, sparsity_ovlp=None, sparsity_all=None,\n",
    "    n_components_ovlp=20, n_components_all=20,\n",
    "    n_cancor=5, n_wts=3,\n",
    "    n_clusters=10, n_components_filter=10, bad_prop=0.1, max_iter_filter=5,\n",
    "    knn=5, embed_dim=20, max_iter_embed=500, save_path='../data', verbose=False\n",
    ")"
   ]
  },
  {
   "cell_type": "code",
   "execution_count": 34,
   "id": "blond-reach",
   "metadata": {},
   "outputs": [
    {
     "data": {
      "text/plain": [
       "(369, 20)"
      ]
     },
     "execution_count": 34,
     "metadata": {},
     "output_type": "execute_result"
    }
   ],
   "source": [
    "embedding_lst[1].shape"
   ]
  },
  {
   "cell_type": "code",
   "execution_count": 35,
   "id": "level-elements",
   "metadata": {},
   "outputs": [
    {
     "data": {
      "text/plain": [
       "0.8238482384823849"
      ]
     },
     "execution_count": 35,
     "metadata": {},
     "output_type": "execute_result"
    }
   ],
   "source": [
    "eval_matching_accuracy(X_labels, Y_labels, final_matching_lst[1], 'maj')"
   ]
  },
  {
   "cell_type": "code",
   "execution_count": null,
   "id": "maritime-aurora",
   "metadata": {},
   "outputs": [],
   "source": []
  }
 ],
 "metadata": {
  "kernelspec": {
   "display_name": "Python 3",
   "language": "python",
   "name": "python3"
  },
  "language_info": {
   "codemirror_mode": {
    "name": "ipython",
    "version": 3
   },
   "file_extension": ".py",
   "mimetype": "text/x-python",
   "name": "python",
   "nbconvert_exporter": "python",
   "pygments_lexer": "ipython3",
   "version": "3.8.8"
  }
 },
 "nbformat": 4,
 "nbformat_minor": 5
}
